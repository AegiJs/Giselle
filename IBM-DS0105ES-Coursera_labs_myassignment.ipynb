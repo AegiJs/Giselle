{
  "metadata": {
    "language_info": {
      "codemirror_mode": {
        "name": "python",
        "version": 3
      },
      "file_extension": ".py",
      "mimetype": "text/x-python",
      "name": "python",
      "nbconvert_exporter": "python",
      "pygments_lexer": "ipython3",
      "version": "3.8"
    },
    "kernelspec": {
      "name": "python",
      "display_name": "Pyolite",
      "language": "python"
    }
  },
  "nbformat_minor": 4,
  "nbformat": 4,
  "cells": [
    {
      "cell_type": "markdown",
      "source": "# My Jupyter Notebook on IBM Watson Studio",
      "metadata": {}
    },
    {
      "cell_type": "markdown",
      "source": "**Giselle Nava Martinez**\n\nAdministration",
      "metadata": {}
    },
    {
      "cell_type": "markdown",
      "source": "*I'm interested in Data science because it woll help me to improve in my career path*",
      "metadata": {}
    },
    {
      "cell_type": "markdown",
      "source": "### An equation with divisions and multiplications",
      "metadata": {}
    },
    {
      "cell_type": "code",
      "source": "(25/2)*(36/3)",
      "metadata": {
        "trusted": true
      },
      "execution_count": 14,
      "outputs": [
        {
          "execution_count": 14,
          "output_type": "execute_result",
          "data": {
            "text/plain": "150.0"
          },
          "metadata": {}
        }
      ]
    },
    {
      "cell_type": "markdown",
      "source": "[Jupyter's org site](https://jupyter.org/)\n***\n> This is Jupyter's logo\n\n![alt text](https://jupyter.org/assets/homepage/hublogo.svg \"Jupyter logo\")",
      "metadata": {}
    },
    {
      "cell_type": "code",
      "source": "",
      "metadata": {},
      "execution_count": null,
      "outputs": []
    }
  ]
}